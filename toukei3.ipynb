{
 "cells": [
  {
   "cell_type": "code",
   "execution_count": 3,
   "metadata": {},
   "outputs": [
    {
     "data": {
      "text/plain": [
       "<matplotlib.collections.PathCollection at 0x12d5f5c8278>"
      ]
     },
     "execution_count": 3,
     "metadata": {},
     "output_type": "execute_result"
    },
    {
     "data": {
      "image/png": "[encoded data removed]",
      "text/plain": [
       "<Figure size 432x288 with 1 Axes>"
      ]
     },
     "metadata": {
      "needs_background": "light"
     },
     "output_type": "display_data"
    }
   ],
   "source": [
    "import numpy as np\n",
    "import matplotlib.pyplot as plt\n",
    " \n",
    "x = np.array([41.4,76.3,59.2,51.8,52.5])\n",
    "y = np.array([52.8,71.2,72.6,63.7,81.3])\n",
    " \n",
    "plt.scatter(x, y)\n",
    "\n"
   ]
  },
  {
   "cell_type": "code",
   "execution_count": 24,
   "metadata": {},
   "outputs": [
    {
     "name": "stdout",
     "output_type": "stream",
     "text": [
      "[0, 10, 4, 1, 2, 2, 3, 0, 4, 9, 9]\n",
      "[71, 66, 70, 68, 66, 66, 67, 71, 70, 65, 65]\n",
      "[69, 62, 64, 64, 65, 65, 63, 69, 64, 59, 59]\n"
     ]
    },
    {
     "data": {
      "text/plain": [
       "0.682748255531198"
      ]
     },
     "execution_count": 24,
     "metadata": {},
     "output_type": "execute_result"
    }
   ],
   "source": [
    "import random\n",
    "\n",
    "x = np.array([71,68,66,67,70,71,70,73,72,65,66])\n",
    "y = np.array([69,64,65,63,64,62,65,64,66,59,62])\n",
    "\n",
    "i = [random.randint(0,10) for i in range(len(x))] #重複を許す0~10の乱数生成\n",
    "print(i)\n",
    "\n",
    "x_sampled = []\n",
    "y_sampled = []\n",
    "\n",
    "for k in i:\n",
    "    x_sampled.append(x[k]) #サンプリングしたデータを追加\n",
    "    y_sampled.append(y[k])\n",
    "    \n",
    "print(x_sampled)\n",
    "print(y_sampled)\n",
    "\n",
    "x_mean = np.mean(x) #xの平均\n",
    "y_mean = np.mean(y) #yの平均\n",
    "\n",
    "Sx=Sy=Sxy=0\n",
    "\n",
    "for j in range(len(x)):\n",
    "    Sx += (x_sampled[j]-x_mean)**2 #xの分散の分子,Σ(x-xの平均)^2\n",
    "    Sy += (y_sampled[j]-y_mean)**2\n",
    "    Sxy += (x_sampled[j]-x_mean)*(y_sampled[j]-y_mean)\n",
    "\n",
    "r = Sxy/(np.sqrt(Sx)*np.sqrt(Sy)) #相関係数の計算,xyの共分散/xの標準偏差*yの標準偏差,nは省略\n",
    "\n",
    "r\n"
   ]
  },
  {
   "cell_type": "code",
   "execution_count": 31,
   "metadata": {},
   "outputs": [
    {
     "data": {
      "text/plain": [
       "(array([   4.,   12.,   40.,   93.,  222.,  530., 1100., 1478., 1210.,\n",
       "         311.]),\n",
       " array([-0.57370797, -0.42016687, -0.26662576, -0.11308465,  0.04045646,\n",
       "         0.19399756,  0.34753867,  0.50107978,  0.65462088,  0.80816199,\n",
       "         0.9617031 ]),\n",
       " <a list of 10 Patch objects>)"
      ]
     },
     "execution_count": 31,
     "metadata": {},
     "output_type": "execute_result"
    },
    {
     "data": {
      "image/png": "[encoded data removed]",
      "text/plain": [
       "<Figure size 432x288 with 1 Axes>"
      ]
     },
     "metadata": {
      "needs_background": "light"
     },
     "output_type": "display_data"
    }
   ],
   "source": [
    "import random\n",
    "\n",
    "x = np.array([71,68,66,67,70,71,70,73,72,65,66])\n",
    "y = np.array([69,64,65,63,64,62,65,64,66,59,62])\n",
    "\n",
    "r_n = []\n",
    "for l in range(5000):\n",
    "    i = [random.randint(0,10) for i in range(len(x))] #重複を許す0~10の乱数生成\n",
    "\n",
    "    x_sampled = []\n",
    "    y_sampled = []\n",
    "\n",
    "    for k in i:\n",
    "        x_sampled.append(x[k]) #サンプリングしたデータを追加\n",
    "        y_sampled.append(y[k])\n",
    "    \n",
    "    x_mean = np.mean(x) #xの平均\n",
    "    y_mean = np.mean(y) #yの平均\n",
    "\n",
    "    Sx=Sy=Sxy=0\n",
    "\n",
    "    for j in range(len(x)):\n",
    "        Sx += (x_sampled[j]-x_mean)**2 #xの分散の分子,Σ(x-xの平均)^2\n",
    "        Sy += (y_sampled[j]-y_mean)**2\n",
    "        Sxy += (x_sampled[j]-x_mean)*(y_sampled[j]-y_mean)\n",
    "\n",
    "    r = Sxy/(np.sqrt(Sx)*np.sqrt(Sy)) #相関係数の計算,xyの共分散/xの標準偏差*yの標準偏差,nは省略\n",
    "    r_n.append(r)\n",
    "    \n",
    "plt.hist(r_n)"
   ]
  },
  {
   "cell_type": "code",
   "execution_count": null,
   "metadata": {},
   "outputs": [],
   "source": []
  }
 ],
 "metadata": {
  "kernelspec": {
   "display_name": "Python 3",
   "language": "python",
   "name": "python3"
  },
  "language_info": {
   "codemirror_mode": {
    "name": "ipython",
    "version": 3
   },
   "file_extension": ".py",
   "mimetype": "text/x-python",
   "name": "python",
   "nbconvert_exporter": "python",
   "pygments_lexer": "ipython3",
   "version": "3.7.3"
  }
 },
 "nbformat": 4,
 "nbformat_minor": 2
}
