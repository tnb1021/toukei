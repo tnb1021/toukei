{
 "cells": [
  {
   "cell_type": "code",
   "execution_count": 25,
   "metadata": {},
   "outputs": [
    {
     "name": "stdout",
     "output_type": "stream",
     "text": [
      "平均差: 2.76 3.76 1.2\n",
      "ジニ係数: 0.276 0.376 0.12\n"
     ]
    }
   ],
   "source": [
    "A = [0,3,3,5,5,5,5,7,7,10]\n",
    "B = [0,1,2,3,5,5,7,8,9,10]\n",
    "C = [3,4,4,5,5,5,5,6,6,7]\n",
    "\n",
    "n = len(A)\n",
    "total_A = total_B = total_C = 0\n",
    "\n",
    "for i in range(n):\n",
    "    for j in range(n):\n",
    "        total_A += abs(A[i]-A[j])\n",
    "        total_B += abs(B[i]-B[j])\n",
    "        total_C += abs(C[i]-C[j])\n",
    "        \n",
    "def meande(total):\n",
    "    return total/n**2\n",
    "\n",
    "def gi(data,total):\n",
    "    mean = sum(data)/n\n",
    "    gi = total/(2*n**2*mean)\n",
    "    return gi\n",
    "    \n",
    "print('平均差:',meande(total_A),meande(total_B),meande(total_C))\n",
    "print('ジニ係数:',gi(A,total_A),gi(B,total_B),gi(C,total_C))"
   ]
  },
  {
   "cell_type": "code",
   "execution_count": 32,
   "metadata": {},
   "outputs": [
    {
     "name": "stdout",
     "output_type": "stream",
     "text": [
      "現在: 0.667724435887455 10年前: 0.6704368955892825\n"
     ]
    }
   ],
   "source": [
    "import math\n",
    "\n",
    "now = [32,19,10,24,15]\n",
    "tenago = [28,13,18,29,12]\n",
    "\n",
    "def entropy(data):\n",
    "    entropy = 0\n",
    "    for i in range(len(data)):\n",
    "        entropy += (data[i]/100)*math.log10(data[i]/100)\n",
    "    return -entropy\n",
    "\n",
    "print('現在:',entropy(now),'10年前:',entropy(tenago))\n"
   ]
  },
  {
   "cell_type": "code",
   "execution_count": 55,
   "metadata": {},
   "outputs": [
    {
     "name": "stdout",
     "output_type": "stream",
     "text": [
      "標準得点: [-1.52145155 -1.21716124 -0.91287093 -0.60858062  0.          0.\n",
      "  0.60858062  0.91287093  1.21716124  1.52145155]\n",
      "標準偏差: 0.9999999999999999 平均 2.2204460492503132e-17\n",
      "偏差値得点: [34.78548451 37.82838761 40.87129071 43.91419381 50.         50.\n",
      " 56.08580619 59.12870929 62.17161239 65.21451549]\n",
      "標準偏差: 9.999999999999998 平均 50.0\n"
     ]
    }
   ],
   "source": [
    "import numpy as np\n",
    "\n",
    "B = np.array(B)\n",
    "std = np.std(B)\n",
    "mean = np.mean(B)\n",
    "\n",
    "result = np.array([])\n",
    "for i in range(len(B)):\n",
    "    standard = (B[i]-mean)/std\n",
    "    result = np.append(result,standard)\n",
    "\n",
    "print('標準得点:',result)    \n",
    "print('標準偏差:',np.std(result),'平均',np.mean(result))\n",
    "\n",
    "result1 = np.array([])\n",
    "for i in range(len(result)):\n",
    "    hensa = result[i]*10+50\n",
    "    result1 = np.append(result1,hensa)\n",
    "print('偏差値得点:',result1)\n",
    "print('標準偏差:',np.std(result1),'平均',np.mean(result1))"
   ]
  },
  {
   "cell_type": "code",
   "execution_count": null,
   "metadata": {},
   "outputs": [],
   "source": []
  }
 ],
 "metadata": {
  "kernelspec": {
   "display_name": "Python 3",
   "language": "python",
   "name": "python3"
  },
  "language_info": {
   "codemirror_mode": {
    "name": "ipython",
    "version": 3
   },
   "file_extension": ".py",
   "mimetype": "text/x-python",
   "name": "python",
   "nbconvert_exporter": "python",
   "pygments_lexer": "ipython3",
   "version": "3.7.3"
  }
 },
 "nbformat": 4,
 "nbformat_minor": 2
}
